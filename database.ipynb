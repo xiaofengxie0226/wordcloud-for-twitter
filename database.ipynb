{
 "cells": [
  {
   "cell_type": "code",
   "execution_count": 14,
   "metadata": {},
   "outputs": [],
   "source": [
    "#database\n",
    "#1，用于记录用户\n",
    "#2，用于保存用户搜索记录\n",
    "\n",
    "import psycopg2"
   ]
  },
  {
   "cell_type": "code",
   "execution_count": 23,
   "metadata": {},
   "outputs": [],
   "source": [
    "#创建/链接数据库\n",
    "conn = psycopg2.connect(dbname=\"practice_db\", user=\"postgres\",\n",
    "        password=\"password\", host=\"127.0.0.1\", port=\"5432\")"
   ]
  },
  {
   "cell_type": "code",
   "execution_count": 24,
   "metadata": {},
   "outputs": [],
   "source": [
    "#创建cur对象用于操作数据库\n",
    "cur = conn.cursor()"
   ]
  },
  {
   "cell_type": "code",
   "execution_count": 25,
   "metadata": {},
   "outputs": [],
   "source": [
    "#生成table\n",
    "cur.execute(\n",
    "        'CREATE TABLE Employee2 ('\n",
    "        'name    varchar(80),'\n",
    "        'address varchar(80),'\n",
    "        'age     int,'\n",
    "        'date    date'\n",
    "        ')'\n",
    "    )"
   ]
  },
  {
   "cell_type": "code",
   "execution_count": 26,
   "metadata": {},
   "outputs": [],
   "source": [
    "#插入数据\n",
    "cur.execute(\"INSERT INTO Employee2 \"\n",
    "        \"VALUES('Gopher', 'China Beijing', 100, '2017-05-27')\")"
   ]
  },
  {
   "cell_type": "code",
   "execution_count": 27,
   "metadata": {},
   "outputs": [
    {
     "name": "stdout",
     "output_type": "stream",
     "text": [
      "name=Gopher address=China Beijing age=100 date=2017-05-27\n"
     ]
    }
   ],
   "source": [
    "#查询数据\n",
    "cur.execute(\"SELECT * FROM Employee2\")\n",
    "rows = cur.fetchall()\n",
    "for row in rows:\n",
    "    print('name=' + str(row[0]) + ' address=' + str(row[1]) + \n",
    "        ' age=' + str(row[2]) + ' date=' + str(row[3]))"
   ]
  },
  {
   "cell_type": "code",
   "execution_count": 28,
   "metadata": {},
   "outputs": [],
   "source": [
    "#更新数据\n",
    "cur.execute(\"UPDATE Employee2 SET age=12 WHERE name='Gopher'\")"
   ]
  },
  {
   "cell_type": "code",
   "execution_count": 29,
   "metadata": {},
   "outputs": [],
   "source": [
    "#删除数据\n",
    "cur.execute(\"DELETE FROM Employee2 WHERE name='Gopher'\")"
   ]
  },
  {
   "cell_type": "code",
   "execution_count": 30,
   "metadata": {},
   "outputs": [],
   "source": [
    "#删除表\n",
    "cur.execute(\"drop table Employee2\")"
   ]
  },
  {
   "cell_type": "code",
   "execution_count": 31,
   "metadata": {},
   "outputs": [],
   "source": [
    "#commit操纵和关闭连接\n",
    "conn.commit()\n",
    "conn.close()"
   ]
  },
  {
   "cell_type": "code",
   "execution_count": null,
   "metadata": {},
   "outputs": [],
   "source": []
  }
 ],
 "metadata": {
  "kernelspec": {
   "display_name": "Python 3",
   "language": "python",
   "name": "python3"
  },
  "language_info": {
   "codemirror_mode": {
    "name": "ipython",
    "version": 3
   },
   "file_extension": ".py",
   "mimetype": "text/x-python",
   "name": "python",
   "nbconvert_exporter": "python",
   "pygments_lexer": "ipython3",
   "version": "3.7.6"
  }
 },
 "nbformat": 4,
 "nbformat_minor": 4
}
